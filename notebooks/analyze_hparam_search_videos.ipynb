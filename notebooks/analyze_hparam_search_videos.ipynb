{
 "cells": [
  {
   "cell_type": "code",
   "execution_count": null,
   "metadata": {},
   "outputs": [],
   "source": [
    "# don't use at the same time with the server running\n",
    "# https://stackoverflow.com/questions/59119396/how-to-use-django-3-0-orm-in-a-jupyter-notebook-without-triggering-the-async-con\n",
    "import os\n",
    "os.environ[\"DJANGO_ALLOW_ASYNC_UNSAFE\"] = \"true\"\n",
    "\n",
    "import json\n",
    "import pickle\n",
    "import numpy as np\n",
    "from django.contrib.auth.models import User as DjangoUser\n",
    "from backend.models import UserPreferences, Video, VideoRating\n",
    "from backend.rating_fields import VIDEO_FIELDS\n",
    "from tqdm.auto import tqdm\n",
    "import pandas as pd"
   ]
  },
  {
   "cell_type": "code",
   "execution_count": null,
   "metadata": {},
   "outputs": [],
   "source": [
    "results_dir = '/home/ts/ray_results/featureless_tournesol_lambda'"
   ]
  },
  {
   "cell_type": "code",
   "execution_count": null,
   "metadata": {},
   "outputs": [],
   "source": [
    "exps = list(filter(lambda x: x.startswith('experiment_'), sorted(os.listdir(results_dir))))"
   ]
  },
  {
   "cell_type": "code",
   "execution_count": null,
   "metadata": {},
   "outputs": [],
   "source": []
  },
  {
   "cell_type": "code",
   "execution_count": null,
   "metadata": {},
   "outputs": [],
   "source": [
    "result = {}\n",
    "\n",
    "for exp in tqdm(exps):\n",
    "    params_path = os.path.join(results_dir, exp, 'params.json')\n",
    "    \n",
    "    if not os.path.isfile(params_path):\n",
    "        continue\n",
    "    \n",
    "    with open(params_path, 'r') as f:\n",
    "        params = json.loads(f.read())\n",
    "\n",
    "    ckpt_path = os.path.join(results_dir, exp, 'checkpoint_50000', 'learner_ckpt.pkl')\n",
    "\n",
    "    if not os.path.isfile(ckpt_path):\n",
    "        continue\n",
    "\n",
    "    with open(ckpt_path, 'rb') as f:\n",
    "        ckpt = pickle.load(f)\n",
    "\n",
    "    all_ratings = ckpt['aggregator']['ratings']\n",
    "    idx = all_ratings['layer']['idx']\n",
    "    data = all_ratings['data']\n",
    "    objects = all_ratings['objects']\n",
    "    features = all_ratings['features']\n",
    "    experts = all_ratings['experts']\n",
    "\n",
    "    common_expert = experts[-1]\n",
    "    common_expert_id = len(experts) - 1\n",
    "\n",
    "    def get_agg_video_scores(video_id):\n",
    "        video_id = objects.index(video_id)\n",
    "        video_scores = []\n",
    "        for feature_id, feature in enumerate(features):\n",
    "            idx_v = idx.get_key((common_expert_id, video_id, feature_id))\n",
    "            score_v = data[idx_v]\n",
    "            video_scores.append(score_v)\n",
    "        return np.array(video_scores, dtype=np.float32)\n",
    "\n",
    "    scores = np.array([get_agg_video_scores(vid) for vid in objects])\n",
    "    \n",
    "    result[exp] = {'params': params, 'scores': scores, 'objects': objects, 'features': features, 'experts': experts}"
   ]
  },
  {
   "cell_type": "code",
   "execution_count": null,
   "metadata": {},
   "outputs": [],
   "source": []
  },
  {
   "cell_type": "code",
   "execution_count": null,
   "metadata": {},
   "outputs": [],
   "source": [
    "all_objects = [x['objects'] for x in result.values()]\n",
    "assert all([all_objects[0] == o for o in all_objects])\n",
    "all_features = [x['features'] for x in result.values()]\n",
    "assert all([all_features[0] == o for o in all_features])\n",
    "#all_experts = [x['experts'] for x in result.values()]\n",
    "#assert all([all_experts[0] == o for o in all_experts])"
   ]
  },
  {
   "cell_type": "code",
   "execution_count": null,
   "metadata": {},
   "outputs": [],
   "source": [
    "names = [Video.objects.get(video_id=vid).name for vid in df.index]"
   ]
  },
  {
   "cell_type": "code",
   "execution_count": null,
   "metadata": {},
   "outputs": [],
   "source": [
    "for f in tqdm(VIDEO_FIELDS):\n",
    "# f = VIDEO_FIELDS[0]\n",
    "    mus = set()\n",
    "    lambdas = set()\n",
    "\n",
    "    df_by_param = {}\n",
    "\n",
    "    for res in result.values():\n",
    "        params = res['params']\n",
    "        scores = res['scores']\n",
    "        all_params.append(params)\n",
    "\n",
    "        lam = params['_gin__lam__grid_search']\n",
    "        mu = params['_gin__mu__grid_search']\n",
    "\n",
    "        param_desc = f\"lam={lam} mu={mu}\"\n",
    "\n",
    "        mus.add(mu)\n",
    "        lambdas.add(lam)\n",
    "\n",
    "        df = pd.DataFrame(scores, columns=all_features[0], index=[x[:5] for x in all_objects[0]])\n",
    "        df['name'] = [x[:10] for x in names]\n",
    "        #df.index = [x for x in df.index]\n",
    "\n",
    "        df_top = df.sort_values(f, ascending=False)[:5]\n",
    "        df_bot = df.sort_values(f, ascending=False)[-5:]\n",
    "        top_bot = pd.concat([df_top, df_bot])\n",
    "        df_top_bot = top_bot[['name', f]]\n",
    "        df_by_param[(lam, mu)] = df_top_bot\n",
    "\n",
    "    html = f'<h1>{f}</h1><table>'\n",
    "\n",
    "    html += '<tr><th></th>'\n",
    "    for mu in sorted(mus):\n",
    "        html += f'<th>mu={mu}</th>'\n",
    "    html += '</tr>'\n",
    "\n",
    "    for lam in sorted(lambdas):\n",
    "        html += \"<tr>\"\n",
    "\n",
    "        html += f\"<th>lam={lam}</th>\"\n",
    "\n",
    "        for mu in sorted(mus):\n",
    "            key = (lam, mu)\n",
    "            if key not in df_by_param:\n",
    "                html += \"<td>--</td>\"\n",
    "            else:\n",
    "                html += f\"<td>{df_by_param[key].to_html()}</td>\"\n",
    "\n",
    "        html += \"</tr>\"\n",
    "\n",
    "    html += '</table>'\n",
    "\n",
    "    with open(f'results_{f}.html', 'w') as f:\n",
    "        f.write(html)"
   ]
  },
  {
   "cell_type": "code",
   "execution_count": null,
   "metadata": {},
   "outputs": [],
   "source": [
    "from IPython.display import HTML, display"
   ]
  },
  {
   "cell_type": "code",
   "execution_count": null,
   "metadata": {},
   "outputs": [],
   "source": []
  },
  {
   "cell_type": "code",
   "execution_count": null,
   "metadata": {},
   "outputs": [],
   "source": [
    "html"
   ]
  },
  {
   "cell_type": "code",
   "execution_count": null,
   "metadata": {},
   "outputs": [],
   "source": [
    "display(f\"<p>sdf</p>\")"
   ]
  },
  {
   "cell_type": "code",
   "execution_count": null,
   "metadata": {},
   "outputs": [],
   "source": [
    "param_desc"
   ]
  },
  {
   "cell_type": "code",
   "execution_count": null,
   "metadata": {},
   "outputs": [],
   "source": [
    "df_top_bot"
   ]
  },
  {
   "cell_type": "code",
   "execution_count": null,
   "metadata": {},
   "outputs": [],
   "source": []
  },
  {
   "cell_type": "code",
   "execution_count": null,
   "metadata": {},
   "outputs": [],
   "source": []
  },
  {
   "cell_type": "code",
   "execution_count": null,
   "metadata": {},
   "outputs": [],
   "source": [
    "features, experts[:10], objects[:10]"
   ]
  },
  {
   "cell_type": "code",
   "execution_count": null,
   "metadata": {},
   "outputs": [],
   "source": []
  },
  {
   "cell_type": "code",
   "execution_count": null,
   "metadata": {},
   "outputs": [],
   "source": []
  },
  {
   "cell_type": "code",
   "execution_count": null,
   "metadata": {},
   "outputs": [],
   "source": []
  },
  {
   "cell_type": "code",
   "execution_count": null,
   "metadata": {},
   "outputs": [],
   "source": []
  },
  {
   "cell_type": "code",
   "execution_count": null,
   "metadata": {},
   "outputs": [],
   "source": []
  }
 ],
 "metadata": {
  "kernelspec": {
   "display_name": "Django Shell-Plus",
   "language": "python",
   "name": "django_extensions"
  },
  "language_info": {
   "codemirror_mode": {
    "name": "ipython",
    "version": 3
   },
   "file_extension": ".py",
   "mimetype": "text/x-python",
   "name": "python",
   "nbconvert_exporter": "python",
   "pygments_lexer": "ipython3",
   "version": "3.7.10"
  }
 },
 "nbformat": 4,
 "nbformat_minor": 4
}
