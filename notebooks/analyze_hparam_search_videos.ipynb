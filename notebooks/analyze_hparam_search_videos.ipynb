{
 "cells": [
  {
   "cell_type": "code",
   "execution_count": 1,
   "metadata": {},
   "outputs": [],
   "source": [
    "# don't use at the same time with the server running\n",
    "# https://stackoverflow.com/questions/59119396/how-to-use-django-3-0-orm-in-a-jupyter-notebook-without-triggering-the-async-con\n",
    "import os\n",
    "os.environ[\"DJANGO_ALLOW_ASYNC_UNSAFE\"] = \"true\"\n",
    "\n",
    "import json\n",
    "import pickle\n",
    "import numpy as np\n",
    "from django.contrib.auth.models import User as DjangoUser\n",
    "from backend.models import UserPreferences, Video, VideoRating\n",
    "from matplotlib import pyplot as plt\n",
    "from backend.rating_fields import VIDEO_FIELDS\n",
    "from tqdm.auto import tqdm\n",
    "from IPython.display import HTML, display\n",
    "import pandas as pd"
   ]
  },
  {
   "cell_type": "markdown",
   "metadata": {},
   "source": [
    "# Loading results from `ray`"
   ]
  },
  {
   "cell_type": "code",
   "execution_count": 2,
   "metadata": {},
   "outputs": [],
   "source": [
    "results_dir = '/root/ray_results_softplus_loss/featureless_tournesol_lambda'\n",
    "fn_pickle = results_dir + '/results.pkl'\n",
    "usernames_to_export = ['__aggregate_expert__', 'le_science4all', 'aidjango', 'sergei']"
   ]
  },
  {
   "cell_type": "code",
   "execution_count": 3,
   "metadata": {},
   "outputs": [],
   "source": [
    "def load_results(results_dir, usernames_set=None):\n",
    "    \"\"\"Load the results from all experiments in a directory.\"\"\"\n",
    "    exps = list(filter(lambda x: x.startswith('experiment_'), sorted(os.listdir(results_dir))))\n",
    "    result = {}\n",
    "    \n",
    "    if usernames_set is None:\n",
    "        usernames_set = set()\n",
    "    usernames_set = set(usernames_set)\n",
    "    \n",
    "    id_to_username = {x.id: x.user.username for x in UserPreferences.objects.all()\n",
    "                      if x.user.username in usernames_set}\n",
    "\n",
    "    for exp in tqdm(exps):\n",
    "        params_path = os.path.join(results_dir, exp, 'params.json')\n",
    "\n",
    "        if not os.path.isfile(params_path):\n",
    "            continue\n",
    "\n",
    "        with open(params_path, 'r') as f:\n",
    "            params = json.loads(f.read())\n",
    "\n",
    "        ckpt_path = os.path.join(results_dir, exp, 'checkpoint_50000', 'learner_ckpt.pkl')\n",
    "\n",
    "        if not os.path.isfile(ckpt_path):\n",
    "            continue\n",
    "\n",
    "        with open(ckpt_path, 'rb') as f:\n",
    "            ckpt = pickle.load(f)\n",
    "\n",
    "        all_ratings = ckpt['aggregator']['ratings']\n",
    "        idx = all_ratings['layer']['idx']\n",
    "        data = all_ratings['data']\n",
    "        objects = all_ratings['objects']\n",
    "        features = all_ratings['features']\n",
    "        experts = all_ratings['experts']\n",
    "\n",
    "        common_expert = experts[-1]\n",
    "        common_expert_id = len(experts) - 1\n",
    "\n",
    "        def get_video_scores(video_id, expert):\n",
    "            video_id = objects.index(video_id)\n",
    "            video_scores = []\n",
    "            expert_id = experts.index(expert)\n",
    "            for feature_id, feature in enumerate(features):\n",
    "                try:\n",
    "                    idx_v = idx.get_key((expert_id, video_id, feature_id))\n",
    "                    score_v = data[idx_v]\n",
    "                except KeyError:\n",
    "                    score_v = None\n",
    "                video_scores.append(score_v)\n",
    "            return np.array(video_scores, dtype=np.float32)\n",
    "\n",
    "        result[exp] = {'params': params,\n",
    "                       'objects': objects,\n",
    "                       'features': features,\n",
    "                       'experts': experts}\n",
    "        \n",
    "        \n",
    "        experts_export = []\n",
    "        for i, expert in enumerate(tqdm(experts, leave=False)):\n",
    "            if (expert not in id_to_username) and (expert != common_expert):\n",
    "                continue\n",
    "            expert_name = id_to_username.get(expert, expert)\n",
    "            scores = np.array([get_video_scores(vid, expert=expert) for vid in objects])\n",
    "            result[exp]['scores:' + str(expert_name)] = scores\n",
    "            experts_export.append(str(expert_name))\n",
    "            \n",
    "        result[exp]['experts_export'] = experts_export\n",
    "        \n",
    "        \n",
    "    return result"
   ]
  },
  {
   "cell_type": "code",
   "execution_count": 7,
   "metadata": {},
   "outputs": [
    {
     "data": {
      "application/vnd.jupyter.widget-view+json": {
       "model_id": "34b8d595acea47c7a8f3cecbaba9ecd0",
       "version_major": 2,
       "version_minor": 0
      },
      "text/plain": [
       "HBox(children=(FloatProgress(value=0.0, max=11.0), HTML(value='')))"
      ]
     },
     "metadata": {},
     "output_type": "display_data"
    },
    {
     "data": {
      "application/vnd.jupyter.widget-view+json": {
       "model_id": "",
       "version_major": 2,
       "version_minor": 0
      },
      "text/plain": [
       "HBox(children=(FloatProgress(value=0.0, max=2104.0), HTML(value='')))"
      ]
     },
     "metadata": {},
     "output_type": "display_data"
    },
    {
     "data": {
      "application/vnd.jupyter.widget-view+json": {
       "model_id": "",
       "version_major": 2,
       "version_minor": 0
      },
      "text/plain": [
       "HBox(children=(FloatProgress(value=0.0, max=2104.0), HTML(value='')))"
      ]
     },
     "metadata": {},
     "output_type": "display_data"
    },
    {
     "data": {
      "application/vnd.jupyter.widget-view+json": {
       "model_id": "",
       "version_major": 2,
       "version_minor": 0
      },
      "text/plain": [
       "HBox(children=(FloatProgress(value=0.0, max=2104.0), HTML(value='')))"
      ]
     },
     "metadata": {},
     "output_type": "display_data"
    },
    {
     "data": {
      "application/vnd.jupyter.widget-view+json": {
       "model_id": "",
       "version_major": 2,
       "version_minor": 0
      },
      "text/plain": [
       "HBox(children=(FloatProgress(value=0.0, max=2104.0), HTML(value='')))"
      ]
     },
     "metadata": {},
     "output_type": "display_data"
    },
    {
     "data": {
      "application/vnd.jupyter.widget-view+json": {
       "model_id": "",
       "version_major": 2,
       "version_minor": 0
      },
      "text/plain": [
       "HBox(children=(FloatProgress(value=0.0, max=2104.0), HTML(value='')))"
      ]
     },
     "metadata": {},
     "output_type": "display_data"
    },
    {
     "data": {
      "application/vnd.jupyter.widget-view+json": {
       "model_id": "",
       "version_major": 2,
       "version_minor": 0
      },
      "text/plain": [
       "HBox(children=(FloatProgress(value=0.0, max=2104.0), HTML(value='')))"
      ]
     },
     "metadata": {},
     "output_type": "display_data"
    },
    {
     "data": {
      "application/vnd.jupyter.widget-view+json": {
       "model_id": "",
       "version_major": 2,
       "version_minor": 0
      },
      "text/plain": [
       "HBox(children=(FloatProgress(value=0.0, max=2104.0), HTML(value='')))"
      ]
     },
     "metadata": {},
     "output_type": "display_data"
    },
    {
     "data": {
      "application/vnd.jupyter.widget-view+json": {
       "model_id": "",
       "version_major": 2,
       "version_minor": 0
      },
      "text/plain": [
       "HBox(children=(FloatProgress(value=0.0, max=2104.0), HTML(value='')))"
      ]
     },
     "metadata": {},
     "output_type": "display_data"
    },
    {
     "data": {
      "application/vnd.jupyter.widget-view+json": {
       "model_id": "",
       "version_major": 2,
       "version_minor": 0
      },
      "text/plain": [
       "HBox(children=(FloatProgress(value=0.0, max=2104.0), HTML(value='')))"
      ]
     },
     "metadata": {},
     "output_type": "display_data"
    },
    {
     "name": "stdout",
     "output_type": "stream",
     "text": [
      "\n"
     ]
    }
   ],
   "source": [
    "# computing results and saving the pickle file\n",
    "results = load_results(results_dir, usernames_set=usernames_to_export)\n",
    "with open(fn_pickle, 'wb') as f:\n",
    "    pickle.dump(results, f)"
   ]
  },
  {
   "cell_type": "code",
   "execution_count": 4,
   "metadata": {},
   "outputs": [],
   "source": [
    "with open(fn_pickle, 'rb') as f:\n",
    "    results = pickle.load(f)"
   ]
  },
  {
   "cell_type": "markdown",
   "metadata": {},
   "source": [
    "# Analyze via top-5 and bottom-5 tables for hyperparameters"
   ]
  },
  {
   "cell_type": "code",
   "execution_count": 9,
   "metadata": {},
   "outputs": [],
   "source": [
    "def write_result_to_html(result, top_bot_n=5):\n",
    "    \"\"\"Get processed results into .html for lambda and mu.\"\"\"\n",
    "\n",
    "    all_params = []\n",
    "    names = None\n",
    "\n",
    "    video_to_info = {v.video_id: {'name': v.name, 'uploader': v.uploader}\n",
    "                     for v in Video.objects.all()}\n",
    "    \n",
    "    out_files = []\n",
    "\n",
    "    all_objects = [x['objects'] for x in result.values()]\n",
    "    assert all([all_objects[0] == o for o in all_objects])\n",
    "    all_features = [x['features'] for x in result.values()]\n",
    "    assert all([all_features[0] == o for o in all_features])\n",
    "    #all_experts = [x['experts'] for x in result.values()]\n",
    "    #assert all([all_experts[0] == o for o in all_experts])\n",
    "\n",
    "    for f in tqdm(VIDEO_FIELDS):\n",
    "    # f = VIDEO_FIELDS[0]\n",
    "\n",
    "        for username in list(result.values())[0]['experts_export']:\n",
    "            \n",
    "            mus = set()\n",
    "            lambdas = set()\n",
    "\n",
    "            df_by_param = {}\n",
    "        \n",
    "            for res in result.values():\n",
    "\n",
    "                params = res['params']\n",
    "                scores = res[f'scores:{username}']\n",
    "                all_params.append(params)\n",
    "\n",
    "                lam = params['_gin__lam__grid_search']\n",
    "                mu = params['_gin__mu__grid_search']\n",
    "\n",
    "                param_desc = f\"lam={lam} mu={mu}\"\n",
    "\n",
    "                mus.add(mu)\n",
    "                lambdas.add(lam)\n",
    "\n",
    "                df = pd.DataFrame(scores, columns=all_features[0], index=[x for x in all_objects[0]])\n",
    "                \n",
    "                def get_title(vid):\n",
    "                    if vid not in video_to_info or video_to_info[vid]['uploader'] is None:\n",
    "                        return None, None\n",
    "                    else:\n",
    "                        return video_to_info[vid]['uploader'], video_to_info[vid]['name']\n",
    "                \n",
    "                names = []\n",
    "                uploaders = []\n",
    "                for vid in df.index:\n",
    "                    uploader, name = get_title(vid)\n",
    "                    names.append(name)\n",
    "                    uploaders.append(uploader)\n",
    "                df['name'] = names\n",
    "                df['uploader'] = uploaders\n",
    "                df['video_id'] = list(df.index)\n",
    "                # print(df['name'])\n",
    "                #df.index = [x for x in df.index]\n",
    "\n",
    "                df = df[~pd.isna(df[f])]\n",
    "                \n",
    "                df_top = df.sort_values(f, ascending=False)[:top_bot_n]\n",
    "                df_bot = df.sort_values(f, ascending=False)[-top_bot_n:]\n",
    "                top_bot = pd.concat([df_top, pd.DataFrame([{'video_id': \"\",\n",
    "                                                            'name': \"\",\n",
    "                                                            'uploader': \"\"}], columns=df_top.columns), df_bot])\n",
    "#                 df_top_bot = top_bot[['name', f]]\n",
    "                df_top_bot = top_bot\n",
    "                df_by_param[(lam, mu)] = df_top_bot\n",
    "                \n",
    "#                 df_top_bot.index = [x[:5] for x in df_top_bot.index]\n",
    "#                 df_top_bot[f] = [f'' for x in df_top_bot[f]]\n",
    "\n",
    "            html = ''\n",
    "            html += f'<h3>username: {username} feature={f}</h3><hr />'\n",
    "            html += f\"<p>runs: {len(result)} first run: {list(result.keys())[0]}</p>\"\n",
    "            html += f\"<p>directory: {results_dir}</p>\"\n",
    "            html += '<table>'\n",
    "\n",
    "            html += '<tr><th></th>'\n",
    "            for mu in sorted(mus):\n",
    "                html += f'<th>mu={mu}</th>'\n",
    "            html += '</tr>'\n",
    "\n",
    "            for lam in sorted(lambdas):\n",
    "                html += \"<tr>\"\n",
    "\n",
    "                html += f\"<th>lam={lam}</th>\"\n",
    "\n",
    "                for mu in sorted(mus):\n",
    "                    key = (lam, mu)\n",
    "                    if key not in df_by_param:\n",
    "                        html += \"<td>--</td>\"\n",
    "                    else:\n",
    "                        \n",
    "                        df_html = f'<table border=\"1\"><tr><th>vid id</th><th>Uploader</th><th>Video title</th><th>{f}</th></tr>'\n",
    "                        \n",
    "                        for i, (_, row) in enumerate(df_by_param[key].iterrows()):\n",
    "                            if i < top_bot_n:\n",
    "                                color = 'green'\n",
    "                            elif i == top_bot_n:\n",
    "                                color = ''\n",
    "                            else:\n",
    "                                color = 'red'\n",
    "                            \n",
    "                            df_html += f'<tr>'\n",
    "                            df_html += f'<td><a href=\"https://www.youtube.com/watch?v={row.video_id}\">{row.video_id[:5]}</a></td>'\n",
    "                            df_html += f'<td>{row.uploader}</td>'\n",
    "                            df_html += f'<td>{row[\"name\"][:20]}</td>'\n",
    "                            df_html += f'<td><font color=\"{color}\">{row[f]:.3e}</font></td>'\n",
    "                            df_html += '</tr>'\n",
    "                            \n",
    "#                             print(row.name)\n",
    "                        \n",
    "                        df_html += '</table>'\n",
    "                        \n",
    "                        # custom pandas html\n",
    "                        html += f\"<td>{df_html}</td>\"\n",
    "                        \n",
    "#                         html += f\"<td>{df_by_param[key].to_html()}</td>\"\n",
    "\n",
    "                html += \"</tr>\"\n",
    "\n",
    "            html += '</table>'\n",
    "\n",
    "            fn = f'results_{f}_{username}.html'\n",
    "\n",
    "            with open(fn, 'w') as f_out:\n",
    "                f_out.write(html)\n",
    "\n",
    "            out_files.append(fn)\n",
    "        \n",
    "    return out_files"
   ]
  },
  {
   "cell_type": "code",
   "execution_count": 117,
   "metadata": {},
   "outputs": [
    {
     "data": {
      "application/vnd.jupyter.widget-view+json": {
       "model_id": "d7c2c71f05994f20acd3ce0f0cfba34b",
       "version_major": 2,
       "version_minor": 0
      },
      "text/plain": [
       "HBox(children=(FloatProgress(value=0.0, max=10.0), HTML(value='')))"
      ]
     },
     "metadata": {},
     "output_type": "display_data"
    },
    {
     "name": "stdout",
     "output_type": "stream",
     "text": [
      "\n"
     ]
    },
    {
     "data": {
      "text/plain": [
       "['results_largely_recommended_sergei.html',\n",
       " 'results_largely_recommended_le_science4all.html',\n",
       " 'results_largely_recommended_aidjango.html',\n",
       " 'results_largely_recommended___aggregate_expert__.html',\n",
       " 'results_reliability_sergei.html',\n",
       " 'results_reliability_le_science4all.html',\n",
       " 'results_reliability_aidjango.html',\n",
       " 'results_reliability___aggregate_expert__.html',\n",
       " 'results_importance_sergei.html',\n",
       " 'results_importance_le_science4all.html',\n",
       " 'results_importance_aidjango.html',\n",
       " 'results_importance___aggregate_expert__.html',\n",
       " 'results_engaging_sergei.html',\n",
       " 'results_engaging_le_science4all.html',\n",
       " 'results_engaging_aidjango.html',\n",
       " 'results_engaging___aggregate_expert__.html',\n",
       " 'results_pedagogy_sergei.html',\n",
       " 'results_pedagogy_le_science4all.html',\n",
       " 'results_pedagogy_aidjango.html',\n",
       " 'results_pedagogy___aggregate_expert__.html',\n",
       " 'results_layman_friendly_sergei.html',\n",
       " 'results_layman_friendly_le_science4all.html',\n",
       " 'results_layman_friendly_aidjango.html',\n",
       " 'results_layman_friendly___aggregate_expert__.html',\n",
       " 'results_diversity_inclusion_sergei.html',\n",
       " 'results_diversity_inclusion_le_science4all.html',\n",
       " 'results_diversity_inclusion_aidjango.html',\n",
       " 'results_diversity_inclusion___aggregate_expert__.html',\n",
       " 'results_backfire_risk_sergei.html',\n",
       " 'results_backfire_risk_le_science4all.html',\n",
       " 'results_backfire_risk_aidjango.html',\n",
       " 'results_backfire_risk___aggregate_expert__.html',\n",
       " 'results_better_habits_sergei.html',\n",
       " 'results_better_habits_le_science4all.html',\n",
       " 'results_better_habits_aidjango.html',\n",
       " 'results_better_habits___aggregate_expert__.html',\n",
       " 'results_entertaining_relaxing_sergei.html',\n",
       " 'results_entertaining_relaxing_le_science4all.html',\n",
       " 'results_entertaining_relaxing_aidjango.html',\n",
       " 'results_entertaining_relaxing___aggregate_expert__.html']"
      ]
     },
     "execution_count": 117,
     "metadata": {},
     "output_type": "execute_result"
    }
   ],
   "source": [
    "write_result_to_html(results)"
   ]
  },
  {
   "cell_type": "markdown",
   "metadata": {},
   "source": [
    "# Analyzing via reference point videos"
   ]
  },
  {
   "cell_type": "code",
   "execution_count": 5,
   "metadata": {},
   "outputs": [],
   "source": [
    "import plotly.io as pio\n",
    "import plotly.express as px\n",
    "\n",
    "pio.orca.config.use_xvfb = True\n",
    "pio.orca.config.executable = '/root/miniconda3/bin/orca'\n",
    "\n",
    "pio.orca.config.save() "
   ]
  },
  {
   "cell_type": "code",
   "execution_count": 6,
   "metadata": {},
   "outputs": [],
   "source": [
    "def scores_as_dict(result, hparam_run, feature, username):\n",
    "    \"\"\"Get scores as a dictionary video_id->score.\"\"\"\n",
    "    scores = result[hparam_run]\n",
    "    all_features = scores['features']\n",
    "    all_objects = scores['objects']\n",
    "    scores_user = scores[f'scores:{username}']\n",
    "    df = pd.DataFrame(scores_user, columns=all_features, index=all_objects)\n",
    "    df = df[~pd.isna(df[feature])]\n",
    "    df = df[[feature]]\n",
    "    _scores_as_dict = dict(df[feature])\n",
    "    return _scores_as_dict\n",
    "\n",
    "def describe_hparams(hparam_run_dct):\n",
    "    \"\"\"Get a short string description of hyperparameters.\"\"\"\n",
    "    params = hparam_run_dct['params']\n",
    "    # only keeping hypers\n",
    "    params = {x: y for x, y in params.items() if x.startswith('_gin')}\n",
    "    \n",
    "    def gin_short_name(param_name_gin):\n",
    "        assert param_name_gin.startswith('_gin')\n",
    "        return param_name_gin.split('__')[1]\n",
    "    \n",
    "    def round_number(param_val):\n",
    "        return (\"%.01f\" % param_val).zfill(4)\n",
    "    \n",
    "    params_dct = {gin_short_name(x): round_number(y) for x, y in params.items()}\n",
    "    keys_sorted = sorted(params_dct.keys())#[::-1]\n",
    "    \n",
    "    out_list = [f'{param}={params_dct[param]}' for param in keys_sorted]\n",
    "    return '/'.join(out_list)\n",
    "\n",
    "def get_ranking(score_dct):\n",
    "    \"\"\"Transform a score dictionary into a ranking (0=best, 1=worst).\"\"\"\n",
    "    # list of video ids\n",
    "    video_ids_list = sorted(list(score_dct.keys()))\n",
    "\n",
    "    # list of video scores in the same order\n",
    "    video_scores = [score_dct[vid] for vid in video_ids_list]\n",
    "\n",
    "    # best ID in the list to worst ID in the list\n",
    "    id_best_to_worst = np.argsort(video_scores)[::-1]\n",
    "\n",
    "    # quantiles to write\n",
    "    quantiles_f = np.linspace(0.0, 1.0, len(video_ids_list))\n",
    "\n",
    "    ranking = {video_ids_list[id_best_to_worst[i]]: quantiles_f[i] for i in range(len(video_ids_list))}\n",
    "    \n",
    "    return ranking\n",
    "\n",
    "def filter_selected_videos(ranking_by_hparam, selected_ids):\n",
    "    \"\"\"Only keep the videos from a list.\"\"\"\n",
    "    \n",
    "    if selected_ids is None:\n",
    "        return ranking_by_hparam\n",
    "    \n",
    "    return {hp: {vid: rank for vid, rank in ranks.items() if vid in selected_ids}\n",
    "            for hp, ranks in ranking_by_hparam.items()}"
   ]
  },
  {
   "cell_type": "code",
   "execution_count": 7,
   "metadata": {},
   "outputs": [],
   "source": [
    "def get_ranking_by_hparam_df(result, feature, username, videos_output):\n",
    "    \"\"\"Get the dataframe videos x ranks in different hparams.\"\"\"\n",
    "\n",
    "    video_to_info = {v.video_id: {'name': v.name, 'uploader': v.uploader}\n",
    "                     for v in Video.objects.all()}\n",
    "\n",
    "    usernames_export = list(result.values())[0]['experts_export']\n",
    "\n",
    "    all_objects = [x['objects'] for x in result.values()]\n",
    "    assert all([all_objects[0] == o for o in all_objects])\n",
    "    all_features = [x['features'] for x in result.values()]\n",
    "    assert all([all_features[0] == o for o in all_features])\n",
    "    \n",
    "    scores_by_hparam = {describe_hparams(result[x]): scores_as_dict(result, x, feature, username)\n",
    "                    for x in result.keys()}\n",
    "    \n",
    "    video_ids = [list(x.keys()) for x in scores_by_hparam.values()]\n",
    "\n",
    "    sets = [set(x) for x in video_ids]\n",
    "    sets_len = [len(t) for t in sets]\n",
    "    lsts_len = [len(t) for t in video_ids]\n",
    "\n",
    "    # checking that have scores for the same videos\n",
    "    assert [sets[0] == s for s in sets]\n",
    "\n",
    "    # checking that there are no duplicates\n",
    "    assert [set_len == lst_len for set_len, lst_len in zip(sets_len, lsts_len)]\n",
    "\n",
    "    ranking_by_hparam = {hp: get_ranking(score) for hp, score in scores_by_hparam.items()}\n",
    "\n",
    "    df_ranking_parallel_coords = pd.DataFrame(filter_selected_videos(ranking_by_hparam, videos_output))\n",
    "    \n",
    "    return df_ranking_parallel_coords"
   ]
  },
  {
   "cell_type": "code",
   "execution_count": 8,
   "metadata": {},
   "outputs": [],
   "source": [
    "def plot_ranking_px(results, feature, username, videos_output):\n",
    "    \"\"\"Plot the results in parallel coordinates.\"\"\"\n",
    "\n",
    "    videos_descr = f'{len(videos_output)}vid' if videos_output is not None else 'all-vid'\n",
    "    fn_out = f\"results_pxpc_{username}_{feature}_{videos_descr}.pdf\"\n",
    "    \n",
    "    if os.path.isfile(fn_out):\n",
    "        print(fn_out, 'already exists')\n",
    "        return\n",
    "    \n",
    "    df = get_ranking_by_hparam_df(results, feature, username, videos_output)#=None)\n",
    "    df = -df\n",
    "\n",
    "    hparam_columns = [x for x in df.columns if x != 'color']\n",
    "    df_best = pd.DataFrame({x: 0.0 for x in hparam_columns}, index=['best'])\n",
    "    df_worst = pd.DataFrame({x: -1.0 for x in hparam_columns}, index=['worst'])\n",
    "\n",
    "    df = pd.concat([df_best, df, df_worst])\n",
    "\n",
    "    df['color'] = np.linspace(1, len(df), len(df))\n",
    "\n",
    "    color_scheme = px.colors.sequential.Turbo\n",
    "\n",
    "    fig = px.parallel_coordinates(df, color=\"color\",\n",
    "                                  dimensions=sorted(hparam_columns),\n",
    "                                  color_continuous_scale=color_scheme,\n",
    "                                  width=1200, height=500\n",
    "    )\n",
    "\n",
    "    # fig.update(layout_coloraxis_showscale=False)\n",
    "\n",
    "\n",
    "    fig.update_layout(coloraxis_colorbar=dict(\n",
    "        title=f\"Videos by {feature}\",\n",
    "        tickvals=np.arange(1, len(df) + 1)[1:-1],\n",
    "        ticktext=df.index[1:-1],\n",
    "        lenmode=\"pixels\", len=400,\n",
    "    ))\n",
    "    \n",
    "    \n",
    "    fig.write_image(fn_out)\n",
    "    \n",
    "    return fig"
   ]
  },
  {
   "cell_type": "code",
   "execution_count": 9,
   "metadata": {},
   "outputs": [
    {
     "name": "stdout",
     "output_type": "stream",
     "text": [
      "pedagogy [1]\n"
     ]
    }
   ],
   "source": [
    "feature = VIDEO_FIELDS[4]\n",
    "username = [1]\n",
    "# list of videos to display\n",
    "videos_output = \"EhAemz1v7dQ I5-dI74zxPg lG4VkPoG3ko rStL7niR7gs gPHgRp70H8o\".split()\n",
    "print(feature, username)"
   ]
  },
  {
   "cell_type": "code",
   "execution_count": 10,
   "metadata": {},
   "outputs": [
    {
     "data": {
      "application/vnd.jupyter.widget-view+json": {
       "model_id": "",
       "version_major": 2,
       "version_minor": 0
      },
      "text/plain": [
       "HBox(children=(FloatProgress(value=0.0, description='feature', max=10.0, style=ProgressStyle(description_width…"
      ]
     },
     "metadata": {},
     "output_type": "display_data"
    },
    {
     "data": {
      "application/vnd.jupyter.widget-view+json": {
       "model_id": "",
       "version_major": 2,
       "version_minor": 0
      },
      "text/plain": [
       "HBox(children=(FloatProgress(value=0.0, description='username', max=4.0, style=ProgressStyle(description_width…"
      ]
     },
     "metadata": {},
     "output_type": "display_data"
    },
    {
     "data": {
      "application/vnd.jupyter.widget-view+json": {
       "model_id": "",
       "version_major": 2,
       "version_minor": 0
      },
      "text/plain": [
       "HBox(children=(FloatProgress(value=0.0, description='type', max=2.0, style=ProgressStyle(description_width='in…"
      ]
     },
     "metadata": {},
     "output_type": "display_data"
    },
    {
     "name": "stdout",
     "output_type": "stream",
     "text": [
      "results_pxpc_sergei_largely_recommended_5vid.pdf already exists\n",
      "results_pxpc_sergei_largely_recommended_all-vid.pdf already exists\n"
     ]
    },
    {
     "data": {
      "application/vnd.jupyter.widget-view+json": {
       "model_id": "",
       "version_major": 2,
       "version_minor": 0
      },
      "text/plain": [
       "HBox(children=(FloatProgress(value=0.0, description='type', max=2.0, style=ProgressStyle(description_width='in…"
      ]
     },
     "metadata": {},
     "output_type": "display_data"
    },
    {
     "name": "stdout",
     "output_type": "stream",
     "text": [
      "results_pxpc_le_science4all_largely_recommended_5vid.pdf already exists\n",
      "results_pxpc_le_science4all_largely_recommended_all-vid.pdf already exists\n"
     ]
    },
    {
     "data": {
      "application/vnd.jupyter.widget-view+json": {
       "model_id": "",
       "version_major": 2,
       "version_minor": 0
      },
      "text/plain": [
       "HBox(children=(FloatProgress(value=0.0, description='type', max=2.0, style=ProgressStyle(description_width='in…"
      ]
     },
     "metadata": {},
     "output_type": "display_data"
    },
    {
     "name": "stdout",
     "output_type": "stream",
     "text": [
      "results_pxpc_aidjango_largely_recommended_5vid.pdf already exists\n",
      "results_pxpc_aidjango_largely_recommended_all-vid.pdf already exists\n"
     ]
    },
    {
     "data": {
      "application/vnd.jupyter.widget-view+json": {
       "model_id": "",
       "version_major": 2,
       "version_minor": 0
      },
      "text/plain": [
       "HBox(children=(FloatProgress(value=0.0, description='type', max=2.0, style=ProgressStyle(description_width='in…"
      ]
     },
     "metadata": {},
     "output_type": "display_data"
    },
    {
     "name": "stdout",
     "output_type": "stream",
     "text": [
      "results_pxpc___aggregate_expert___largely_recommended_5vid.pdf already exists\n",
      "results_pxpc___aggregate_expert___largely_recommended_all-vid.pdf already exists\n"
     ]
    },
    {
     "data": {
      "application/vnd.jupyter.widget-view+json": {
       "model_id": "",
       "version_major": 2,
       "version_minor": 0
      },
      "text/plain": [
       "HBox(children=(FloatProgress(value=0.0, description='username', max=4.0, style=ProgressStyle(description_width…"
      ]
     },
     "metadata": {},
     "output_type": "display_data"
    },
    {
     "data": {
      "application/vnd.jupyter.widget-view+json": {
       "model_id": "",
       "version_major": 2,
       "version_minor": 0
      },
      "text/plain": [
       "HBox(children=(FloatProgress(value=0.0, description='type', max=2.0, style=ProgressStyle(description_width='in…"
      ]
     },
     "metadata": {},
     "output_type": "display_data"
    },
    {
     "name": "stdout",
     "output_type": "stream",
     "text": [
      "results_pxpc_sergei_reliability_5vid.pdf already exists\n",
      "results_pxpc_sergei_reliability_all-vid.pdf already exists\n"
     ]
    },
    {
     "data": {
      "application/vnd.jupyter.widget-view+json": {
       "model_id": "",
       "version_major": 2,
       "version_minor": 0
      },
      "text/plain": [
       "HBox(children=(FloatProgress(value=0.0, description='type', max=2.0, style=ProgressStyle(description_width='in…"
      ]
     },
     "metadata": {},
     "output_type": "display_data"
    },
    {
     "name": "stdout",
     "output_type": "stream",
     "text": [
      "results_pxpc_le_science4all_reliability_5vid.pdf already exists\n",
      "results_pxpc_le_science4all_reliability_all-vid.pdf already exists\n"
     ]
    },
    {
     "data": {
      "application/vnd.jupyter.widget-view+json": {
       "model_id": "",
       "version_major": 2,
       "version_minor": 0
      },
      "text/plain": [
       "HBox(children=(FloatProgress(value=0.0, description='type', max=2.0, style=ProgressStyle(description_width='in…"
      ]
     },
     "metadata": {},
     "output_type": "display_data"
    },
    {
     "name": "stdout",
     "output_type": "stream",
     "text": [
      "results_pxpc_aidjango_reliability_5vid.pdf already exists\n",
      "results_pxpc_aidjango_reliability_all-vid.pdf already exists\n"
     ]
    },
    {
     "data": {
      "application/vnd.jupyter.widget-view+json": {
       "model_id": "",
       "version_major": 2,
       "version_minor": 0
      },
      "text/plain": [
       "HBox(children=(FloatProgress(value=0.0, description='type', max=2.0, style=ProgressStyle(description_width='in…"
      ]
     },
     "metadata": {},
     "output_type": "display_data"
    },
    {
     "name": "stdout",
     "output_type": "stream",
     "text": [
      "results_pxpc___aggregate_expert___reliability_5vid.pdf already exists\n",
      "results_pxpc___aggregate_expert___reliability_all-vid.pdf already exists\n"
     ]
    },
    {
     "data": {
      "application/vnd.jupyter.widget-view+json": {
       "model_id": "",
       "version_major": 2,
       "version_minor": 0
      },
      "text/plain": [
       "HBox(children=(FloatProgress(value=0.0, description='username', max=4.0, style=ProgressStyle(description_width…"
      ]
     },
     "metadata": {},
     "output_type": "display_data"
    },
    {
     "data": {
      "application/vnd.jupyter.widget-view+json": {
       "model_id": "",
       "version_major": 2,
       "version_minor": 0
      },
      "text/plain": [
       "HBox(children=(FloatProgress(value=0.0, description='type', max=2.0, style=ProgressStyle(description_width='in…"
      ]
     },
     "metadata": {},
     "output_type": "display_data"
    },
    {
     "name": "stdout",
     "output_type": "stream",
     "text": [
      "results_pxpc_sergei_importance_5vid.pdf already exists\n",
      "results_pxpc_sergei_importance_all-vid.pdf already exists\n"
     ]
    },
    {
     "data": {
      "application/vnd.jupyter.widget-view+json": {
       "model_id": "",
       "version_major": 2,
       "version_minor": 0
      },
      "text/plain": [
       "HBox(children=(FloatProgress(value=0.0, description='type', max=2.0, style=ProgressStyle(description_width='in…"
      ]
     },
     "metadata": {},
     "output_type": "display_data"
    },
    {
     "name": "stdout",
     "output_type": "stream",
     "text": [
      "results_pxpc_le_science4all_importance_5vid.pdf already exists\n",
      "results_pxpc_le_science4all_importance_all-vid.pdf already exists\n"
     ]
    },
    {
     "data": {
      "application/vnd.jupyter.widget-view+json": {
       "model_id": "",
       "version_major": 2,
       "version_minor": 0
      },
      "text/plain": [
       "HBox(children=(FloatProgress(value=0.0, description='type', max=2.0, style=ProgressStyle(description_width='in…"
      ]
     },
     "metadata": {},
     "output_type": "display_data"
    },
    {
     "name": "stdout",
     "output_type": "stream",
     "text": [
      "results_pxpc_aidjango_importance_5vid.pdf already exists\n",
      "results_pxpc_aidjango_importance_all-vid.pdf already exists\n"
     ]
    },
    {
     "data": {
      "application/vnd.jupyter.widget-view+json": {
       "model_id": "",
       "version_major": 2,
       "version_minor": 0
      },
      "text/plain": [
       "HBox(children=(FloatProgress(value=0.0, description='type', max=2.0, style=ProgressStyle(description_width='in…"
      ]
     },
     "metadata": {},
     "output_type": "display_data"
    },
    {
     "name": "stdout",
     "output_type": "stream",
     "text": [
      "results_pxpc___aggregate_expert___importance_5vid.pdf already exists\n",
      "results_pxpc___aggregate_expert___importance_all-vid.pdf already exists\n"
     ]
    },
    {
     "data": {
      "application/vnd.jupyter.widget-view+json": {
       "model_id": "",
       "version_major": 2,
       "version_minor": 0
      },
      "text/plain": [
       "HBox(children=(FloatProgress(value=0.0, description='username', max=4.0, style=ProgressStyle(description_width…"
      ]
     },
     "metadata": {},
     "output_type": "display_data"
    },
    {
     "data": {
      "application/vnd.jupyter.widget-view+json": {
       "model_id": "",
       "version_major": 2,
       "version_minor": 0
      },
      "text/plain": [
       "HBox(children=(FloatProgress(value=0.0, description='type', max=2.0, style=ProgressStyle(description_width='in…"
      ]
     },
     "metadata": {},
     "output_type": "display_data"
    },
    {
     "name": "stdout",
     "output_type": "stream",
     "text": [
      "results_pxpc_sergei_engaging_5vid.pdf already exists\n",
      "results_pxpc_sergei_engaging_all-vid.pdf already exists\n"
     ]
    },
    {
     "data": {
      "application/vnd.jupyter.widget-view+json": {
       "model_id": "",
       "version_major": 2,
       "version_minor": 0
      },
      "text/plain": [
       "HBox(children=(FloatProgress(value=0.0, description='type', max=2.0, style=ProgressStyle(description_width='in…"
      ]
     },
     "metadata": {},
     "output_type": "display_data"
    },
    {
     "name": "stdout",
     "output_type": "stream",
     "text": [
      "results_pxpc_le_science4all_engaging_5vid.pdf already exists\n",
      "results_pxpc_le_science4all_engaging_all-vid.pdf already exists\n"
     ]
    },
    {
     "data": {
      "application/vnd.jupyter.widget-view+json": {
       "model_id": "",
       "version_major": 2,
       "version_minor": 0
      },
      "text/plain": [
       "HBox(children=(FloatProgress(value=0.0, description='type', max=2.0, style=ProgressStyle(description_width='in…"
      ]
     },
     "metadata": {},
     "output_type": "display_data"
    },
    {
     "name": "stdout",
     "output_type": "stream",
     "text": [
      "results_pxpc_aidjango_engaging_5vid.pdf already exists\n",
      "results_pxpc_aidjango_engaging_all-vid.pdf already exists\n"
     ]
    },
    {
     "data": {
      "application/vnd.jupyter.widget-view+json": {
       "model_id": "",
       "version_major": 2,
       "version_minor": 0
      },
      "text/plain": [
       "HBox(children=(FloatProgress(value=0.0, description='type', max=2.0, style=ProgressStyle(description_width='in…"
      ]
     },
     "metadata": {},
     "output_type": "display_data"
    },
    {
     "name": "stdout",
     "output_type": "stream",
     "text": [
      "results_pxpc___aggregate_expert___engaging_5vid.pdf already exists\n",
      "results_pxpc___aggregate_expert___engaging_all-vid.pdf already exists\n"
     ]
    },
    {
     "data": {
      "application/vnd.jupyter.widget-view+json": {
       "model_id": "",
       "version_major": 2,
       "version_minor": 0
      },
      "text/plain": [
       "HBox(children=(FloatProgress(value=0.0, description='username', max=4.0, style=ProgressStyle(description_width…"
      ]
     },
     "metadata": {},
     "output_type": "display_data"
    },
    {
     "data": {
      "application/vnd.jupyter.widget-view+json": {
       "model_id": "",
       "version_major": 2,
       "version_minor": 0
      },
      "text/plain": [
       "HBox(children=(FloatProgress(value=0.0, description='type', max=2.0, style=ProgressStyle(description_width='in…"
      ]
     },
     "metadata": {},
     "output_type": "display_data"
    },
    {
     "name": "stdout",
     "output_type": "stream",
     "text": [
      "results_pxpc_sergei_pedagogy_5vid.pdf already exists\n",
      "results_pxpc_sergei_pedagogy_all-vid.pdf already exists\n"
     ]
    },
    {
     "data": {
      "application/vnd.jupyter.widget-view+json": {
       "model_id": "",
       "version_major": 2,
       "version_minor": 0
      },
      "text/plain": [
       "HBox(children=(FloatProgress(value=0.0, description='type', max=2.0, style=ProgressStyle(description_width='in…"
      ]
     },
     "metadata": {},
     "output_type": "display_data"
    },
    {
     "name": "stdout",
     "output_type": "stream",
     "text": [
      "results_pxpc_le_science4all_pedagogy_5vid.pdf already exists\n",
      "results_pxpc_le_science4all_pedagogy_all-vid.pdf already exists\n"
     ]
    },
    {
     "data": {
      "application/vnd.jupyter.widget-view+json": {
       "model_id": "",
       "version_major": 2,
       "version_minor": 0
      },
      "text/plain": [
       "HBox(children=(FloatProgress(value=0.0, description='type', max=2.0, style=ProgressStyle(description_width='in…"
      ]
     },
     "metadata": {},
     "output_type": "display_data"
    },
    {
     "name": "stdout",
     "output_type": "stream",
     "text": [
      "results_pxpc_aidjango_pedagogy_5vid.pdf already exists\n",
      "results_pxpc_aidjango_pedagogy_all-vid.pdf already exists\n"
     ]
    },
    {
     "data": {
      "application/vnd.jupyter.widget-view+json": {
       "model_id": "",
       "version_major": 2,
       "version_minor": 0
      },
      "text/plain": [
       "HBox(children=(FloatProgress(value=0.0, description='type', max=2.0, style=ProgressStyle(description_width='in…"
      ]
     },
     "metadata": {},
     "output_type": "display_data"
    },
    {
     "name": "stdout",
     "output_type": "stream",
     "text": [
      "results_pxpc___aggregate_expert___pedagogy_5vid.pdf already exists\n",
      "results_pxpc___aggregate_expert___pedagogy_all-vid.pdf already exists\n"
     ]
    },
    {
     "data": {
      "application/vnd.jupyter.widget-view+json": {
       "model_id": "",
       "version_major": 2,
       "version_minor": 0
      },
      "text/plain": [
       "HBox(children=(FloatProgress(value=0.0, description='username', max=4.0, style=ProgressStyle(description_width…"
      ]
     },
     "metadata": {},
     "output_type": "display_data"
    },
    {
     "data": {
      "application/vnd.jupyter.widget-view+json": {
       "model_id": "",
       "version_major": 2,
       "version_minor": 0
      },
      "text/plain": [
       "HBox(children=(FloatProgress(value=0.0, description='type', max=2.0, style=ProgressStyle(description_width='in…"
      ]
     },
     "metadata": {},
     "output_type": "display_data"
    },
    {
     "name": "stdout",
     "output_type": "stream",
     "text": [
      "results_pxpc_sergei_layman_friendly_5vid.pdf already exists\n",
      "results_pxpc_sergei_layman_friendly_all-vid.pdf already exists\n"
     ]
    },
    {
     "data": {
      "application/vnd.jupyter.widget-view+json": {
       "model_id": "",
       "version_major": 2,
       "version_minor": 0
      },
      "text/plain": [
       "HBox(children=(FloatProgress(value=0.0, description='type', max=2.0, style=ProgressStyle(description_width='in…"
      ]
     },
     "metadata": {},
     "output_type": "display_data"
    },
    {
     "name": "stdout",
     "output_type": "stream",
     "text": [
      "results_pxpc_le_science4all_layman_friendly_5vid.pdf already exists\n",
      "results_pxpc_le_science4all_layman_friendly_all-vid.pdf already exists\n"
     ]
    },
    {
     "data": {
      "application/vnd.jupyter.widget-view+json": {
       "model_id": "",
       "version_major": 2,
       "version_minor": 0
      },
      "text/plain": [
       "HBox(children=(FloatProgress(value=0.0, description='type', max=2.0, style=ProgressStyle(description_width='in…"
      ]
     },
     "metadata": {},
     "output_type": "display_data"
    },
    {
     "name": "stdout",
     "output_type": "stream",
     "text": [
      "results_pxpc_aidjango_layman_friendly_5vid.pdf already exists\n",
      "results_pxpc_aidjango_layman_friendly_all-vid.pdf already exists\n"
     ]
    },
    {
     "data": {
      "application/vnd.jupyter.widget-view+json": {
       "model_id": "",
       "version_major": 2,
       "version_minor": 0
      },
      "text/plain": [
       "HBox(children=(FloatProgress(value=0.0, description='type', max=2.0, style=ProgressStyle(description_width='in…"
      ]
     },
     "metadata": {},
     "output_type": "display_data"
    },
    {
     "name": "stdout",
     "output_type": "stream",
     "text": [
      "results_pxpc___aggregate_expert___layman_friendly_5vid.pdf already exists\n"
     ]
    },
    {
     "data": {
      "application/vnd.jupyter.widget-view+json": {
       "model_id": "",
       "version_major": 2,
       "version_minor": 0
      },
      "text/plain": [
       "HBox(children=(FloatProgress(value=0.0, description='username', max=4.0, style=ProgressStyle(description_width…"
      ]
     },
     "metadata": {},
     "output_type": "display_data"
    },
    {
     "data": {
      "application/vnd.jupyter.widget-view+json": {
       "model_id": "",
       "version_major": 2,
       "version_minor": 0
      },
      "text/plain": [
       "HBox(children=(FloatProgress(value=0.0, description='type', max=2.0, style=ProgressStyle(description_width='in…"
      ]
     },
     "metadata": {},
     "output_type": "display_data"
    },
    {
     "data": {
      "application/vnd.jupyter.widget-view+json": {
       "model_id": "",
       "version_major": 2,
       "version_minor": 0
      },
      "text/plain": [
       "HBox(children=(FloatProgress(value=0.0, description='type', max=2.0, style=ProgressStyle(description_width='in…"
      ]
     },
     "metadata": {},
     "output_type": "display_data"
    },
    {
     "data": {
      "application/vnd.jupyter.widget-view+json": {
       "model_id": "",
       "version_major": 2,
       "version_minor": 0
      },
      "text/plain": [
       "HBox(children=(FloatProgress(value=0.0, description='type', max=2.0, style=ProgressStyle(description_width='in…"
      ]
     },
     "metadata": {},
     "output_type": "display_data"
    },
    {
     "data": {
      "application/vnd.jupyter.widget-view+json": {
       "model_id": "",
       "version_major": 2,
       "version_minor": 0
      },
      "text/plain": [
       "HBox(children=(FloatProgress(value=0.0, description='type', max=2.0, style=ProgressStyle(description_width='in…"
      ]
     },
     "metadata": {},
     "output_type": "display_data"
    },
    {
     "data": {
      "application/vnd.jupyter.widget-view+json": {
       "model_id": "",
       "version_major": 2,
       "version_minor": 0
      },
      "text/plain": [
       "HBox(children=(FloatProgress(value=0.0, description='username', max=4.0, style=ProgressStyle(description_width…"
      ]
     },
     "metadata": {},
     "output_type": "display_data"
    },
    {
     "data": {
      "application/vnd.jupyter.widget-view+json": {
       "model_id": "",
       "version_major": 2,
       "version_minor": 0
      },
      "text/plain": [
       "HBox(children=(FloatProgress(value=0.0, description='type', max=2.0, style=ProgressStyle(description_width='in…"
      ]
     },
     "metadata": {},
     "output_type": "display_data"
    },
    {
     "data": {
      "application/vnd.jupyter.widget-view+json": {
       "model_id": "",
       "version_major": 2,
       "version_minor": 0
      },
      "text/plain": [
       "HBox(children=(FloatProgress(value=0.0, description='type', max=2.0, style=ProgressStyle(description_width='in…"
      ]
     },
     "metadata": {},
     "output_type": "display_data"
    },
    {
     "data": {
      "application/vnd.jupyter.widget-view+json": {
       "model_id": "",
       "version_major": 2,
       "version_minor": 0
      },
      "text/plain": [
       "HBox(children=(FloatProgress(value=0.0, description='type', max=2.0, style=ProgressStyle(description_width='in…"
      ]
     },
     "metadata": {},
     "output_type": "display_data"
    },
    {
     "data": {
      "application/vnd.jupyter.widget-view+json": {
       "model_id": "",
       "version_major": 2,
       "version_minor": 0
      },
      "text/plain": [
       "HBox(children=(FloatProgress(value=0.0, description='type', max=2.0, style=ProgressStyle(description_width='in…"
      ]
     },
     "metadata": {},
     "output_type": "display_data"
    },
    {
     "data": {
      "application/vnd.jupyter.widget-view+json": {
       "model_id": "",
       "version_major": 2,
       "version_minor": 0
      },
      "text/plain": [
       "HBox(children=(FloatProgress(value=0.0, description='username', max=4.0, style=ProgressStyle(description_width…"
      ]
     },
     "metadata": {},
     "output_type": "display_data"
    },
    {
     "data": {
      "application/vnd.jupyter.widget-view+json": {
       "model_id": "",
       "version_major": 2,
       "version_minor": 0
      },
      "text/plain": [
       "HBox(children=(FloatProgress(value=0.0, description='type', max=2.0, style=ProgressStyle(description_width='in…"
      ]
     },
     "metadata": {},
     "output_type": "display_data"
    },
    {
     "data": {
      "application/vnd.jupyter.widget-view+json": {
       "model_id": "",
       "version_major": 2,
       "version_minor": 0
      },
      "text/plain": [
       "HBox(children=(FloatProgress(value=0.0, description='type', max=2.0, style=ProgressStyle(description_width='in…"
      ]
     },
     "metadata": {},
     "output_type": "display_data"
    },
    {
     "data": {
      "application/vnd.jupyter.widget-view+json": {
       "model_id": "",
       "version_major": 2,
       "version_minor": 0
      },
      "text/plain": [
       "HBox(children=(FloatProgress(value=0.0, description='type', max=2.0, style=ProgressStyle(description_width='in…"
      ]
     },
     "metadata": {},
     "output_type": "display_data"
    },
    {
     "data": {
      "application/vnd.jupyter.widget-view+json": {
       "model_id": "",
       "version_major": 2,
       "version_minor": 0
      },
      "text/plain": [
       "HBox(children=(FloatProgress(value=0.0, description='type', max=2.0, style=ProgressStyle(description_width='in…"
      ]
     },
     "metadata": {},
     "output_type": "display_data"
    },
    {
     "data": {
      "application/vnd.jupyter.widget-view+json": {
       "model_id": "",
       "version_major": 2,
       "version_minor": 0
      },
      "text/plain": [
       "HBox(children=(FloatProgress(value=0.0, description='username', max=4.0, style=ProgressStyle(description_width…"
      ]
     },
     "metadata": {},
     "output_type": "display_data"
    },
    {
     "data": {
      "application/vnd.jupyter.widget-view+json": {
       "model_id": "",
       "version_major": 2,
       "version_minor": 0
      },
      "text/plain": [
       "HBox(children=(FloatProgress(value=0.0, description='type', max=2.0, style=ProgressStyle(description_width='in…"
      ]
     },
     "metadata": {},
     "output_type": "display_data"
    },
    {
     "data": {
      "application/vnd.jupyter.widget-view+json": {
       "model_id": "",
       "version_major": 2,
       "version_minor": 0
      },
      "text/plain": [
       "HBox(children=(FloatProgress(value=0.0, description='type', max=2.0, style=ProgressStyle(description_width='in…"
      ]
     },
     "metadata": {},
     "output_type": "display_data"
    },
    {
     "data": {
      "application/vnd.jupyter.widget-view+json": {
       "model_id": "",
       "version_major": 2,
       "version_minor": 0
      },
      "text/plain": [
       "HBox(children=(FloatProgress(value=0.0, description='type', max=2.0, style=ProgressStyle(description_width='in…"
      ]
     },
     "metadata": {},
     "output_type": "display_data"
    },
    {
     "data": {
      "application/vnd.jupyter.widget-view+json": {
       "model_id": "",
       "version_major": 2,
       "version_minor": 0
      },
      "text/plain": [
       "HBox(children=(FloatProgress(value=0.0, description='type', max=2.0, style=ProgressStyle(description_width='in…"
      ]
     },
     "metadata": {},
     "output_type": "display_data"
    }
   ],
   "source": [
    "# writing all figures...\n",
    "for feature in tqdm(VIDEO_FIELDS, desc=\"feature\", leave=False):\n",
    "    for username in tqdm(list(results.values())[0]['experts_export'], desc=\"username\", leave=False):\n",
    "        for vids in tqdm([videos_output, None], desc=\"type\", leave=False):\n",
    "            plot_ranking_px(results, feature, username, videos_output=vids)"
   ]
  },
  {
   "cell_type": "code",
   "execution_count": 14,
   "metadata": {},
   "outputs": [
    {
     "ename": "NameError",
     "evalue": "name 'df' is not defined",
     "output_type": "error",
     "traceback": [
      "\u001b[0;31m---------------------------------------------------------------------------\u001b[0m",
      "\u001b[0;31mNameError\u001b[0m                                 Traceback (most recent call last)",
      "\u001b[0;32m<ipython-input-14-00cf07b74dcd>\u001b[0m in \u001b[0;36m<module>\u001b[0;34m\u001b[0m\n\u001b[0;32m----> 1\u001b[0;31m \u001b[0mdf\u001b[0m\u001b[0;34m\u001b[0m\u001b[0;34m\u001b[0m\u001b[0m\n\u001b[0m",
      "\u001b[0;31mNameError\u001b[0m: name 'df' is not defined"
     ]
    }
   ],
   "source": []
  },
  {
   "cell_type": "code",
   "execution_count": 194,
   "metadata": {},
   "outputs": [],
   "source": []
  },
  {
   "cell_type": "code",
   "execution_count": null,
   "metadata": {},
   "outputs": [],
   "source": []
  }
 ],
 "metadata": {
  "kernelspec": {
   "display_name": "Django Shell-Plus",
   "language": "python",
   "name": "django_extensions"
  },
  "language_info": {
   "codemirror_mode": {
    "name": "ipython",
    "version": 3
   },
   "file_extension": ".py",
   "mimetype": "text/x-python",
   "name": "python",
   "nbconvert_exporter": "python",
   "pygments_lexer": "ipython3",
   "version": "3.7.10"
  }
 },
 "nbformat": 4,
 "nbformat_minor": 4
}
