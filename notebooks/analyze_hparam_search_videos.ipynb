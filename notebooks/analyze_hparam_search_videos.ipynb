{
 "cells": [
  {
   "cell_type": "code",
   "execution_count": 112,
   "metadata": {},
   "outputs": [],
   "source": [
    "# don't use at the same time with the server running\n",
    "# https://stackoverflow.com/questions/59119396/how-to-use-django-3-0-orm-in-a-jupyter-notebook-without-triggering-the-async-con\n",
    "import os\n",
    "os.environ[\"DJANGO_ALLOW_ASYNC_UNSAFE\"] = \"true\"\n",
    "\n",
    "import json\n",
    "import pickle\n",
    "import numpy as np\n",
    "from django.contrib.auth.models import User as DjangoUser\n",
    "from backend.models import UserPreferences, Video, VideoRating\n",
    "from backend.rating_fields import VIDEO_FIELDS\n",
    "from tqdm.auto import tqdm\n",
    "from IPython.display import HTML, display\n",
    "import pandas as pd"
   ]
  },
  {
   "cell_type": "code",
   "execution_count": 113,
   "metadata": {},
   "outputs": [],
   "source": [
    "results_dir = '/root/ray_results_sinh_loss/featureless_tournesol_lambda'\n",
    "usernames_to_export = ['__aggregate_expert__', 'le_science4all', 'aidjango', 'sergei']"
   ]
  },
  {
   "cell_type": "code",
   "execution_count": 114,
   "metadata": {},
   "outputs": [],
   "source": [
    "def load_results(results_dir, usernames_set=None):\n",
    "    \"\"\"Load the results from all experiments in a directory.\"\"\"\n",
    "    exps = list(filter(lambda x: x.startswith('experiment_'), sorted(os.listdir(results_dir))))\n",
    "    result = {}\n",
    "    \n",
    "    if usernames_set is None:\n",
    "        usernames_set = set()\n",
    "    usernames_set = set(usernames_set)\n",
    "    \n",
    "    id_to_username = {x.id: x.user.username for x in UserPreferences.objects.all()\n",
    "                      if x.user.username in usernames_set}\n",
    "\n",
    "    for exp in tqdm(exps):\n",
    "        params_path = os.path.join(results_dir, exp, 'params.json')\n",
    "\n",
    "        if not os.path.isfile(params_path):\n",
    "            continue\n",
    "\n",
    "        with open(params_path, 'r') as f:\n",
    "            params = json.loads(f.read())\n",
    "\n",
    "        ckpt_path = os.path.join(results_dir, exp, 'checkpoint_50000', 'learner_ckpt.pkl')\n",
    "\n",
    "        if not os.path.isfile(ckpt_path):\n",
    "            continue\n",
    "\n",
    "        with open(ckpt_path, 'rb') as f:\n",
    "            ckpt = pickle.load(f)\n",
    "\n",
    "        all_ratings = ckpt['aggregator']['ratings']\n",
    "        idx = all_ratings['layer']['idx']\n",
    "        data = all_ratings['data']\n",
    "        objects = all_ratings['objects']\n",
    "        features = all_ratings['features']\n",
    "        experts = all_ratings['experts']\n",
    "\n",
    "        common_expert = experts[-1]\n",
    "        common_expert_id = len(experts) - 1\n",
    "\n",
    "        def get_video_scores(video_id, expert):\n",
    "            video_id = objects.index(video_id)\n",
    "            video_scores = []\n",
    "            expert_id = experts.index(expert)\n",
    "            for feature_id, feature in enumerate(features):\n",
    "                try:\n",
    "                    idx_v = idx.get_key((expert_id, video_id, feature_id))\n",
    "                    score_v = data[idx_v]\n",
    "                except KeyError:\n",
    "                    score_v = None\n",
    "                video_scores.append(score_v)\n",
    "            return np.array(video_scores, dtype=np.float32)\n",
    "\n",
    "        result[exp] = {'params': params,\n",
    "                       'objects': objects,\n",
    "                       'features': features,\n",
    "                       'experts': experts}\n",
    "        \n",
    "        \n",
    "        experts_export = []\n",
    "        for i, expert in enumerate(tqdm(experts, leave=False)):\n",
    "            if (expert not in id_to_username) and (expert != common_expert):\n",
    "                continue\n",
    "            expert_name = id_to_username.get(expert, expert)\n",
    "            scores = np.array([get_video_scores(vid, expert=expert) for vid in objects])\n",
    "            result[exp]['scores:' + str(expert_name)] = scores\n",
    "            experts_export.append(str(expert_name))\n",
    "            \n",
    "        result[exp]['experts_export'] = experts_export\n",
    "        \n",
    "        \n",
    "    return result"
   ]
  },
  {
   "cell_type": "code",
   "execution_count": 115,
   "metadata": {},
   "outputs": [
    {
     "data": {
      "application/vnd.jupyter.widget-view+json": {
       "model_id": "09eeb274ffad446cb294d539d34d987a",
       "version_major": 2,
       "version_minor": 0
      },
      "text/plain": [
       "HBox(children=(FloatProgress(value=0.0, max=10.0), HTML(value='')))"
      ]
     },
     "metadata": {},
     "output_type": "display_data"
    },
    {
     "data": {
      "application/vnd.jupyter.widget-view+json": {
       "model_id": "",
       "version_major": 2,
       "version_minor": 0
      },
      "text/plain": [
       "HBox(children=(FloatProgress(value=0.0, max=2104.0), HTML(value='')))"
      ]
     },
     "metadata": {},
     "output_type": "display_data"
    },
    {
     "data": {
      "application/vnd.jupyter.widget-view+json": {
       "model_id": "",
       "version_major": 2,
       "version_minor": 0
      },
      "text/plain": [
       "HBox(children=(FloatProgress(value=0.0, max=2104.0), HTML(value='')))"
      ]
     },
     "metadata": {},
     "output_type": "display_data"
    },
    {
     "data": {
      "application/vnd.jupyter.widget-view+json": {
       "model_id": "",
       "version_major": 2,
       "version_minor": 0
      },
      "text/plain": [
       "HBox(children=(FloatProgress(value=0.0, max=2104.0), HTML(value='')))"
      ]
     },
     "metadata": {},
     "output_type": "display_data"
    },
    {
     "data": {
      "application/vnd.jupyter.widget-view+json": {
       "model_id": "",
       "version_major": 2,
       "version_minor": 0
      },
      "text/plain": [
       "HBox(children=(FloatProgress(value=0.0, max=2104.0), HTML(value='')))"
      ]
     },
     "metadata": {},
     "output_type": "display_data"
    },
    {
     "data": {
      "application/vnd.jupyter.widget-view+json": {
       "model_id": "",
       "version_major": 2,
       "version_minor": 0
      },
      "text/plain": [
       "HBox(children=(FloatProgress(value=0.0, max=2104.0), HTML(value='')))"
      ]
     },
     "metadata": {},
     "output_type": "display_data"
    },
    {
     "data": {
      "application/vnd.jupyter.widget-view+json": {
       "model_id": "",
       "version_major": 2,
       "version_minor": 0
      },
      "text/plain": [
       "HBox(children=(FloatProgress(value=0.0, max=2104.0), HTML(value='')))"
      ]
     },
     "metadata": {},
     "output_type": "display_data"
    },
    {
     "data": {
      "application/vnd.jupyter.widget-view+json": {
       "model_id": "",
       "version_major": 2,
       "version_minor": 0
      },
      "text/plain": [
       "HBox(children=(FloatProgress(value=0.0, max=2104.0), HTML(value='')))"
      ]
     },
     "metadata": {},
     "output_type": "display_data"
    },
    {
     "data": {
      "application/vnd.jupyter.widget-view+json": {
       "model_id": "",
       "version_major": 2,
       "version_minor": 0
      },
      "text/plain": [
       "HBox(children=(FloatProgress(value=0.0, max=2104.0), HTML(value='')))"
      ]
     },
     "metadata": {},
     "output_type": "display_data"
    },
    {
     "data": {
      "application/vnd.jupyter.widget-view+json": {
       "model_id": "",
       "version_major": 2,
       "version_minor": 0
      },
      "text/plain": [
       "HBox(children=(FloatProgress(value=0.0, max=2104.0), HTML(value='')))"
      ]
     },
     "metadata": {},
     "output_type": "display_data"
    },
    {
     "name": "stdout",
     "output_type": "stream",
     "text": [
      "\n"
     ]
    }
   ],
   "source": [
    "results = load_results(results_dir, usernames_set=usernames_to_export)"
   ]
  },
  {
   "cell_type": "code",
   "execution_count": 116,
   "metadata": {},
   "outputs": [],
   "source": [
    "def write_result_to_html(result, top_bot_n=5):\n",
    "    \"\"\"Get processed results into .html for lambda and mu.\"\"\"\n",
    "\n",
    "    all_params = []\n",
    "    names = None\n",
    "\n",
    "    video_to_info = {v.video_id: {'name': v.name, 'uploader': v.uploader}\n",
    "                     for v in Video.objects.all()}\n",
    "    \n",
    "    out_files = []\n",
    "\n",
    "    all_objects = [x['objects'] for x in result.values()]\n",
    "    assert all([all_objects[0] == o for o in all_objects])\n",
    "    all_features = [x['features'] for x in result.values()]\n",
    "    assert all([all_features[0] == o for o in all_features])\n",
    "    #all_experts = [x['experts'] for x in result.values()]\n",
    "    #assert all([all_experts[0] == o for o in all_experts])\n",
    "\n",
    "    for f in tqdm(VIDEO_FIELDS):\n",
    "    # f = VIDEO_FIELDS[0]\n",
    "\n",
    "        for username in list(result.values())[0]['experts_export']:\n",
    "            \n",
    "            mus = set()\n",
    "            lambdas = set()\n",
    "\n",
    "            df_by_param = {}\n",
    "        \n",
    "            for res in result.values():\n",
    "\n",
    "                params = res['params']\n",
    "                scores = res[f'scores:{username}']\n",
    "                all_params.append(params)\n",
    "\n",
    "                lam = params['_gin__lam__grid_search']\n",
    "                mu = params['_gin__mu__grid_search']\n",
    "\n",
    "                param_desc = f\"lam={lam} mu={mu}\"\n",
    "\n",
    "                mus.add(mu)\n",
    "                lambdas.add(lam)\n",
    "\n",
    "                df = pd.DataFrame(scores, columns=all_features[0], index=[x for x in all_objects[0]])\n",
    "                \n",
    "                def get_title(vid):\n",
    "                    if vid not in video_to_info or video_to_info[vid]['uploader'] is None:\n",
    "                        return None, None\n",
    "                    else:\n",
    "                        return video_to_info[vid]['uploader'], video_to_info[vid]['name']\n",
    "                \n",
    "                names = []\n",
    "                uploaders = []\n",
    "                for vid in df.index:\n",
    "                    uploader, name = get_title(vid)\n",
    "                    names.append(name)\n",
    "                    uploaders.append(uploader)\n",
    "                df['name'] = names\n",
    "                df['uploader'] = uploaders\n",
    "                df['video_id'] = list(df.index)\n",
    "                # print(df['name'])\n",
    "                #df.index = [x for x in df.index]\n",
    "\n",
    "                df = df[~pd.isna(df[f])]\n",
    "                \n",
    "                df_top = df.sort_values(f, ascending=False)[:top_bot_n]\n",
    "                df_bot = df.sort_values(f, ascending=False)[-top_bot_n:]\n",
    "                top_bot = pd.concat([df_top, pd.DataFrame([{'video_id': \"\",\n",
    "                                                            'name': \"\",\n",
    "                                                            'uploader': \"\"}], columns=df_top.columns), df_bot])\n",
    "#                 df_top_bot = top_bot[['name', f]]\n",
    "                df_top_bot = top_bot\n",
    "                df_by_param[(lam, mu)] = df_top_bot\n",
    "                \n",
    "#                 df_top_bot.index = [x[:5] for x in df_top_bot.index]\n",
    "#                 df_top_bot[f] = [f'' for x in df_top_bot[f]]\n",
    "\n",
    "            html = ''\n",
    "            html += f'<h3>username: {username} feature={f}</h3><hr />'\n",
    "            html += f\"<p>runs: {len(result)} first run: {list(result.keys())[0]}</p>\"\n",
    "            html += f\"<p>directory: {results_dir}</p>\"\n",
    "            html += '<table>'\n",
    "\n",
    "            html += '<tr><th></th>'\n",
    "            for mu in sorted(mus):\n",
    "                html += f'<th>mu={mu}</th>'\n",
    "            html += '</tr>'\n",
    "\n",
    "            for lam in sorted(lambdas):\n",
    "                html += \"<tr>\"\n",
    "\n",
    "                html += f\"<th>lam={lam}</th>\"\n",
    "\n",
    "                for mu in sorted(mus):\n",
    "                    key = (lam, mu)\n",
    "                    if key not in df_by_param:\n",
    "                        html += \"<td>--</td>\"\n",
    "                    else:\n",
    "                        \n",
    "                        df_html = f'<table border=\"1\"><tr><th>vid id</th><th>Uploader</th><th>Video title</th><th>{f}</th></tr>'\n",
    "                        \n",
    "                        for i, (_, row) in enumerate(df_by_param[key].iterrows()):\n",
    "                            if i < top_bot_n:\n",
    "                                color = 'green'\n",
    "                            elif i == top_bot_n:\n",
    "                                color = ''\n",
    "                            else:\n",
    "                                color = 'red'\n",
    "                            \n",
    "                            df_html += f'<tr>'\n",
    "                            df_html += f'<td><a href=\"https://www.youtube.com/watch?v={row.video_id}\">{row.video_id[:5]}</a></td>'\n",
    "                            df_html += f'<td>{row.uploader}</td>'\n",
    "                            df_html += f'<td>{row[\"name\"][:20]}</td>'\n",
    "                            df_html += f'<td><font color=\"{color}\">{row[f]:.3e}</font></td>'\n",
    "                            df_html += '</tr>'\n",
    "                            \n",
    "#                             print(row.name)\n",
    "                        \n",
    "                        df_html += '</table>'\n",
    "                        \n",
    "                        # custom pandas html\n",
    "                        html += f\"<td>{df_html}</td>\"\n",
    "                        \n",
    "#                         html += f\"<td>{df_by_param[key].to_html()}</td>\"\n",
    "\n",
    "                html += \"</tr>\"\n",
    "\n",
    "            html += '</table>'\n",
    "\n",
    "            fn = f'results_{f}_{username}.html'\n",
    "\n",
    "            with open(fn, 'w') as f_out:\n",
    "                f_out.write(html)\n",
    "\n",
    "            out_files.append(fn)\n",
    "        \n",
    "    return out_files"
   ]
  },
  {
   "cell_type": "code",
   "execution_count": 117,
   "metadata": {},
   "outputs": [
    {
     "data": {
      "application/vnd.jupyter.widget-view+json": {
       "model_id": "d7c2c71f05994f20acd3ce0f0cfba34b",
       "version_major": 2,
       "version_minor": 0
      },
      "text/plain": [
       "HBox(children=(FloatProgress(value=0.0, max=10.0), HTML(value='')))"
      ]
     },
     "metadata": {},
     "output_type": "display_data"
    },
    {
     "name": "stdout",
     "output_type": "stream",
     "text": [
      "\n"
     ]
    },
    {
     "data": {
      "text/plain": [
       "['results_largely_recommended_sergei.html',\n",
       " 'results_largely_recommended_le_science4all.html',\n",
       " 'results_largely_recommended_aidjango.html',\n",
       " 'results_largely_recommended___aggregate_expert__.html',\n",
       " 'results_reliability_sergei.html',\n",
       " 'results_reliability_le_science4all.html',\n",
       " 'results_reliability_aidjango.html',\n",
       " 'results_reliability___aggregate_expert__.html',\n",
       " 'results_importance_sergei.html',\n",
       " 'results_importance_le_science4all.html',\n",
       " 'results_importance_aidjango.html',\n",
       " 'results_importance___aggregate_expert__.html',\n",
       " 'results_engaging_sergei.html',\n",
       " 'results_engaging_le_science4all.html',\n",
       " 'results_engaging_aidjango.html',\n",
       " 'results_engaging___aggregate_expert__.html',\n",
       " 'results_pedagogy_sergei.html',\n",
       " 'results_pedagogy_le_science4all.html',\n",
       " 'results_pedagogy_aidjango.html',\n",
       " 'results_pedagogy___aggregate_expert__.html',\n",
       " 'results_layman_friendly_sergei.html',\n",
       " 'results_layman_friendly_le_science4all.html',\n",
       " 'results_layman_friendly_aidjango.html',\n",
       " 'results_layman_friendly___aggregate_expert__.html',\n",
       " 'results_diversity_inclusion_sergei.html',\n",
       " 'results_diversity_inclusion_le_science4all.html',\n",
       " 'results_diversity_inclusion_aidjango.html',\n",
       " 'results_diversity_inclusion___aggregate_expert__.html',\n",
       " 'results_backfire_risk_sergei.html',\n",
       " 'results_backfire_risk_le_science4all.html',\n",
       " 'results_backfire_risk_aidjango.html',\n",
       " 'results_backfire_risk___aggregate_expert__.html',\n",
       " 'results_better_habits_sergei.html',\n",
       " 'results_better_habits_le_science4all.html',\n",
       " 'results_better_habits_aidjango.html',\n",
       " 'results_better_habits___aggregate_expert__.html',\n",
       " 'results_entertaining_relaxing_sergei.html',\n",
       " 'results_entertaining_relaxing_le_science4all.html',\n",
       " 'results_entertaining_relaxing_aidjango.html',\n",
       " 'results_entertaining_relaxing___aggregate_expert__.html']"
      ]
     },
     "execution_count": 117,
     "metadata": {},
     "output_type": "execute_result"
    }
   ],
   "source": [
    "write_result_to_html(results)"
   ]
  },
  {
   "cell_type": "code",
   "execution_count": null,
   "metadata": {},
   "outputs": [],
   "source": []
  },
  {
   "cell_type": "code",
   "execution_count": null,
   "metadata": {},
   "outputs": [],
   "source": []
  }
 ],
 "metadata": {
  "kernelspec": {
   "display_name": "Django Shell-Plus",
   "language": "python",
   "name": "django_extensions"
  },
  "language_info": {
   "codemirror_mode": {
    "name": "ipython",
    "version": 3
   },
   "file_extension": ".py",
   "mimetype": "text/x-python",
   "name": "python",
   "nbconvert_exporter": "python",
   "pygments_lexer": "ipython3",
   "version": "3.7.10"
  }
 },
 "nbformat": 4,
 "nbformat_minor": 4
}
